{
 "metadata": {
  "language_info": {
   "codemirror_mode": {
    "name": "ipython",
    "version": 3
   },
   "file_extension": ".py",
   "mimetype": "text/x-python",
   "name": "python",
   "nbconvert_exporter": "python",
   "pygments_lexer": "ipython3",
   "version": "3.8.7-final"
  },
  "orig_nbformat": 2,
  "kernelspec": {
   "name": "Python 3.8.7 64-bit",
   "display_name": "Python 3.8.7 64-bit",
   "metadata": {
    "interpreter": {
     "hash": "5984c07bd85a09704efeebc43c280456997f3d9e1810f10980d19f89f173e200"
    }
   }
  }
 },
 "nbformat": 4,
 "nbformat_minor": 2,
 "cells": [
  {
   "cell_type": "markdown",
   "metadata": {},
   "source": [
    "```\n",
    "havoc x, y;\n",
    "if (x > 0 and y < 0)\n",
    "  x = x + 1\n",
    "else\n",
    "  y = y - 1\n",
    "assume y > x ; \n",
    "assert y > x + 100 ;\n",
    "while y > x do\n",
    "   havoc x ;\n",
    "   y = y + x\n",
    "```"
   ]
  },
  {
   "cell_type": "code",
   "execution_count": 16,
   "metadata": {},
   "outputs": [],
   "source": [
    "import z3"
   ]
  },
  {
   "cell_type": "code",
   "execution_count": 22,
   "metadata": {},
   "outputs": [
    {
     "output_type": "execute_result",
     "data": {
      "text/plain": [
       "({}, [])"
      ]
     },
     "metadata": {},
     "execution_count": 22
    }
   ],
   "source": [
    "# execute: havoc x, y\n",
    "env = dict()\n",
    "pc = list()\n",
    "(env, pc)"
   ]
  },
  {
   "cell_type": "code",
   "execution_count": 25,
   "metadata": {},
   "outputs": [
    {
     "output_type": "execute_result",
     "data": {
      "text/plain": [
       "({'x': R!5, 'y': Y!6}, [])"
      ]
     },
     "metadata": {},
     "execution_count": 25
    }
   ],
   "source": [
    "# symex: havoc x, y on state (env, pc)\n",
    "env['x'] = z3.FreshInt('R')\n",
    "env['y'] = z3.FreshInt('Y')\n",
    "(env, pc)"
   ]
  },
  {
   "cell_type": "code",
   "execution_count": 26,
   "metadata": {},
   "outputs": [
    {
     "output_type": "execute_result",
     "data": {
      "text/plain": [
       "And(R!5 > 0, Y!6 < 0)"
      ],
      "text/html": "R!5 &gt; 0 &and; Y!6 &lt; 0"
     },
     "metadata": {},
     "execution_count": 26
    }
   ],
   "source": [
    "r = z3.And(env['x'] > 0 , env['y'] < 0)\n",
    "r"
   ]
  },
  {
   "cell_type": "code",
   "execution_count": 27,
   "metadata": {},
   "outputs": [
    {
     "output_type": "execute_result",
     "data": {
      "text/plain": [
       "sat"
      ],
      "text/html": "<b>sat</b>"
     },
     "metadata": {},
     "execution_count": 27
    }
   ],
   "source": [
    "# check that can execute then-branch of if statement\n",
    "s = z3.Solver()\n",
    "s.add(pc)\n",
    "s.add(r)\n",
    "s.check()\n",
    "# expect: yes"
   ]
  },
  {
   "cell_type": "code",
   "execution_count": 29,
   "metadata": {},
   "outputs": [
    {
     "output_type": "execute_result",
     "data": {
      "text/plain": [
       "sat"
      ],
      "text/html": "<b>sat</b>"
     },
     "metadata": {},
     "execution_count": 29
    }
   ],
   "source": [
    "# check that can execute else-branch of if statement\n",
    "s = z3.Solver()\n",
    "s.add(pc)\n",
    "s.add(z3.Not(r))\n",
    "s.check()\n",
    "# expect: yes"
   ]
  },
  {
   "cell_type": "code",
   "execution_count": 30,
   "metadata": {},
   "outputs": [],
   "source": [
    "env1 = env.copy()\n",
    "pc1 = pc.copy()\n",
    "env2 = env.copy()\n",
    "pc2 = pc.copy()"
   ]
  },
  {
   "cell_type": "code",
   "execution_count": 31,
   "metadata": {},
   "outputs": [],
   "source": [
    "pc1.append(r)\n",
    "pc2.append(z3.Not(r))"
   ]
  },
  {
   "cell_type": "code",
   "execution_count": 32,
   "metadata": {},
   "outputs": [],
   "source": [
    "env1['x'] = env1['x'] + z3.IntVal(1)\n",
    "env2['y'] = env2['y'] - z3.IntVal(1)"
   ]
  },
  {
   "cell_type": "code",
   "execution_count": 33,
   "metadata": {},
   "outputs": [
    {
     "output_type": "stream",
     "name": "stdout",
     "text": [
      "({'x': R!5 + 1, 'y': Y!6}, [And(R!5 > 0, Y!6 < 0)])\n({'x': R!5, 'y': Y!6 - 1}, [Not(And(R!5 > 0, Y!6 < 0))])\n"
     ]
    }
   ],
   "source": [
    "# two new symbolic states to execute after the if statement\n",
    "print((env1, pc1))\n",
    "print((env2, pc2))"
   ]
  },
  {
   "cell_type": "code",
   "execution_count": 34,
   "metadata": {},
   "outputs": [
    {
     "output_type": "execute_result",
     "data": {
      "text/plain": [
       "([And(R!5 > 0, Y!6 < 0), Y!6 > R!5 + 1],\n",
       " [Not(And(R!5 > 0, Y!6 < 0)), Y!6 - 1 > R!5])"
      ]
     },
     "metadata": {},
     "execution_count": 34
    }
   ],
   "source": [
    "pc1.append(env1['y'] > env1['x'])\n",
    "pc2.append(env2['y'] > env2['x'])\n",
    "(pc1, pc2)"
   ]
  },
  {
   "cell_type": "code",
   "execution_count": 35,
   "metadata": {},
   "outputs": [
    {
     "output_type": "execute_result",
     "data": {
      "text/plain": [
       "unsat"
      ],
      "text/html": "<b>unsat</b>"
     },
     "metadata": {},
     "execution_count": 35
    }
   ],
   "source": [
    "s = z3.Solver()\n",
    "s.add(pc1)\n",
    "s.check()"
   ]
  },
  {
   "cell_type": "code",
   "execution_count": 36,
   "metadata": {},
   "outputs": [
    {
     "output_type": "execute_result",
     "data": {
      "text/plain": [
       "sat"
      ],
      "text/html": "<b>sat</b>"
     },
     "metadata": {},
     "execution_count": 36
    }
   ],
   "source": [
    "s.reset()\n",
    "s.add(pc2)\n",
    "s.check()"
   ]
  },
  {
   "cell_type": "code",
   "execution_count": 37,
   "metadata": {},
   "outputs": [],
   "source": [
    "r = env2['y'] > env2['x'] + z3.IntVal(100)"
   ]
  },
  {
   "cell_type": "code",
   "execution_count": 38,
   "metadata": {},
   "outputs": [
    {
     "output_type": "execute_result",
     "data": {
      "text/plain": [
       "Y!6 - 1 > R!5 + 100"
      ],
      "text/html": "Y!6 - 1 &gt; R!5 + 100"
     },
     "metadata": {},
     "execution_count": 38
    }
   ],
   "source": [
    "r"
   ]
  },
  {
   "cell_type": "code",
   "execution_count": 39,
   "metadata": {},
   "outputs": [
    {
     "output_type": "execute_result",
     "data": {
      "text/plain": [
       "sat"
      ],
      "text/html": "<b>sat</b>"
     },
     "metadata": {},
     "execution_count": 39
    }
   ],
   "source": [
    "s.reset()\n",
    "s.add(pc2)\n",
    "s.add(z3.Not(r))\n",
    "s.check()"
   ]
  },
  {
   "cell_type": "code",
   "execution_count": 40,
   "metadata": {},
   "outputs": [
    {
     "output_type": "execute_result",
     "data": {
      "text/plain": [
       "[R!5 = -3, Y!6 = -1]"
      ],
      "text/html": "[R!5 = -3, Y!6 = -1]"
     },
     "metadata": {},
     "execution_count": 40
    }
   ],
   "source": [
    "s.model()"
   ]
  },
  {
   "cell_type": "code",
   "execution_count": 41,
   "metadata": {},
   "outputs": [
    {
     "output_type": "stream",
     "name": "stdout",
     "text": [
      "error: assert can fail\n"
     ]
    }
   ],
   "source": [
    "print(\"error: assert can fail\")"
   ]
  },
  {
   "cell_type": "code",
   "execution_count": 42,
   "metadata": {},
   "outputs": [
    {
     "output_type": "execute_result",
     "data": {
      "text/plain": [
       "sat"
      ],
      "text/html": "<b>sat</b>"
     },
     "metadata": {},
     "execution_count": 42
    }
   ],
   "source": [
    "s.reset()\n",
    "s.add(pc2)\n",
    "s.add(r)\n",
    "s.check()"
   ]
  },
  {
   "cell_type": "code",
   "execution_count": 43,
   "metadata": {},
   "outputs": [
    {
     "output_type": "execute_result",
     "data": {
      "text/plain": [
       "[R!5 = -103, Y!6 = -1]"
      ],
      "text/html": "[R!5 = -103, Y!6 = -1]"
     },
     "metadata": {},
     "execution_count": 43
    }
   ],
   "source": [
    "s.model()"
   ]
  },
  {
   "cell_type": "code",
   "execution_count": 45,
   "metadata": {},
   "outputs": [
    {
     "output_type": "execute_result",
     "data": {
      "text/plain": [
       "({'x': R!5, 'y': Y!6 - 1},\n",
       " [Not(And(R!5 > 0, Y!6 < 0)), Y!6 - 1 > R!5, Y!6 - 1 > R!5 + 100])"
      ]
     },
     "metadata": {},
     "execution_count": 45
    }
   ],
   "source": [
    "pc2.append(r)\n",
    "(env2, pc2)"
   ]
  },
  {
   "cell_type": "code",
   "execution_count": 46,
   "metadata": {},
   "outputs": [
    {
     "output_type": "execute_result",
     "data": {
      "text/plain": [
       "unsat"
      ],
      "text/html": "<b>unsat</b>"
     },
     "metadata": {},
     "execution_count": 46
    }
   ],
   "source": [
    "r = env2['y'] > env2['x']\n",
    "s.reset()\n",
    "s.add(pc2)\n",
    "s.add(z3.Not(r))\n",
    "s.check()"
   ]
  },
  {
   "cell_type": "code",
   "execution_count": 47,
   "metadata": {},
   "outputs": [
    {
     "output_type": "execute_result",
     "data": {
      "text/plain": [
       "sat"
      ],
      "text/html": "<b>sat</b>"
     },
     "metadata": {},
     "execution_count": 47
    }
   ],
   "source": [
    "s.reset()\n",
    "s.add(pc2)\n",
    "s.add(r)\n",
    "s.check()\n"
   ]
  },
  {
   "cell_type": "code",
   "execution_count": 49,
   "metadata": {},
   "outputs": [],
   "source": [
    "pc2.append(r)"
   ]
  },
  {
   "cell_type": "code",
   "execution_count": 50,
   "metadata": {},
   "outputs": [
    {
     "output_type": "execute_result",
     "data": {
      "text/plain": [
       "({'x': X!14, 'y': Y!6 - 1 + X!14},\n",
       " [Not(And(R!5 > 0, Y!6 < 0)),\n",
       "  Y!6 - 1 > R!5,\n",
       "  Y!6 - 1 > R!5 + 100,\n",
       "  Y!6 - 1 > R!5])"
      ]
     },
     "metadata": {},
     "execution_count": 50
    }
   ],
   "source": [
    "env2['x'] = z3.FreshInt('X')\n",
    "env2['y'] = env2['y'] + env2['x']\n",
    "(env2, pc2)"
   ]
  },
  {
   "cell_type": "code",
   "execution_count": 51,
   "metadata": {},
   "outputs": [
    {
     "output_type": "execute_result",
     "data": {
      "text/plain": [
       "sat"
      ],
      "text/html": "<b>sat</b>"
     },
     "metadata": {},
     "execution_count": 51
    }
   ],
   "source": [
    "r = env2['y'] > env2['x']\n",
    "s.reset()\n",
    "s.add(pc2)\n",
    "s.add(z3.Not(r))\n",
    "s.check()"
   ]
  },
  {
   "cell_type": "code",
   "execution_count": 52,
   "metadata": {},
   "outputs": [
    {
     "output_type": "execute_result",
     "data": {
      "text/plain": [
       "sat"
      ],
      "text/html": "<b>sat</b>"
     },
     "metadata": {},
     "execution_count": 52
    }
   ],
   "source": [
    "r = env2['y'] > env2['x']\n",
    "s.reset()\n",
    "s.add(pc2)\n",
    "s.add(r)\n",
    "s.check()"
   ]
  },
  {
   "cell_type": "code",
   "execution_count": 54,
   "metadata": {},
   "outputs": [
    {
     "output_type": "execute_result",
     "data": {
      "text/plain": [
       "({'x': X!14, 'y': Y!6 - 1 + X!14},\n",
       " [Not(And(R!5 > 0, Y!6 < 0)),\n",
       "  Y!6 - 1 > R!5,\n",
       "  Y!6 - 1 > R!5 + 100,\n",
       "  Y!6 - 1 > R!5,\n",
       "  Not(Y!6 - 1 + X!14 > X!14)])"
      ]
     },
     "metadata": {},
     "execution_count": 54
    }
   ],
   "source": [
    "env3 = env2.copy()\n",
    "pc3 = pc2.copy()\n",
    "pc3.append(z3.Not(r))\n",
    "(env3, pc3)"
   ]
  },
  {
   "cell_type": "code",
   "execution_count": 55,
   "metadata": {},
   "outputs": [
    {
     "output_type": "execute_result",
     "data": {
      "text/plain": [
       "({'x': X!15, 'y': Y!6 - 1 + X!14 + X!15},\n",
       " [Not(And(R!5 > 0, Y!6 < 0)),\n",
       "  Y!6 - 1 > R!5,\n",
       "  Y!6 - 1 > R!5 + 100,\n",
       "  Y!6 - 1 > R!5,\n",
       "  Y!6 - 1 + X!14 > X!14])"
      ]
     },
     "metadata": {},
     "execution_count": 55
    }
   ],
   "source": [
    "pc2.append(r)\n",
    "env2['x'] = z3.FreshInt('X')\n",
    "env2['y'] = env2['y'] + env2['x']\n",
    "(env2, pc2)"
   ]
  },
  {
   "cell_type": "code",
   "execution_count": 56,
   "metadata": {},
   "outputs": [
    {
     "output_type": "execute_result",
     "data": {
      "text/plain": [
       "sat"
      ],
      "text/html": "<b>sat</b>"
     },
     "metadata": {},
     "execution_count": 56
    }
   ],
   "source": [
    "r = env2['y'] > env2['x']\n",
    "s.reset()\n",
    "s.add(pc2)\n",
    "s.add(z3.Not(r))\n",
    "s.check()"
   ]
  },
  {
   "cell_type": "code",
   "execution_count": 57,
   "metadata": {},
   "outputs": [
    {
     "output_type": "execute_result",
     "data": {
      "text/plain": [
       "({'x': X!15, 'y': Y!6 - 1 + X!14 + X!15},\n",
       " [Not(And(R!5 > 0, Y!6 < 0)),\n",
       "  Y!6 - 1 > R!5,\n",
       "  Y!6 - 1 > R!5 + 100,\n",
       "  Y!6 - 1 > R!5,\n",
       "  Y!6 - 1 + X!14 > X!14,\n",
       "  Not(Y!6 - 1 + X!14 + X!15 > X!15)])"
      ]
     },
     "metadata": {},
     "execution_count": 57
    }
   ],
   "source": [
    "env4 = env2.copy()\n",
    "pc4 = pc2.copy()\n",
    "pc4.append(z3.Not(r))\n",
    "(env4, pc4)"
   ]
  },
  {
   "cell_type": "code",
   "execution_count": 58,
   "metadata": {},
   "outputs": [
    {
     "output_type": "execute_result",
     "data": {
      "text/plain": [
       "(({'x': R!5 + 1, 'y': Y!6}, [And(R!5 > 0, Y!6 < 0), Y!6 > R!5 + 1]),\n",
       " ({'x': X!15, 'y': Y!6 - 1 + X!14 + X!15},\n",
       "  [Not(And(R!5 > 0, Y!6 < 0)),\n",
       "   Y!6 - 1 > R!5,\n",
       "   Y!6 - 1 > R!5 + 100,\n",
       "   Y!6 - 1 > R!5,\n",
       "   Y!6 - 1 + X!14 > X!14]),\n",
       " ({'x': X!14, 'y': Y!6 - 1 + X!14},\n",
       "  [Not(And(R!5 > 0, Y!6 < 0)),\n",
       "   Y!6 - 1 > R!5,\n",
       "   Y!6 - 1 > R!5 + 100,\n",
       "   Y!6 - 1 > R!5,\n",
       "   Not(Y!6 - 1 + X!14 > X!14)]),\n",
       " ({'x': X!15, 'y': Y!6 - 1 + X!14 + X!15},\n",
       "  [Not(And(R!5 > 0, Y!6 < 0)),\n",
       "   Y!6 - 1 > R!5,\n",
       "   Y!6 - 1 > R!5 + 100,\n",
       "   Y!6 - 1 > R!5,\n",
       "   Y!6 - 1 + X!14 > X!14,\n",
       "   Not(Y!6 - 1 + X!14 + X!15 > X!15)]))"
      ]
     },
     "metadata": {},
     "execution_count": 58
    }
   ],
   "source": [
    "(env1, pc1), (env2, pc2), (env3, pc3), (env4, pc4)"
   ]
  },
  {
   "cell_type": "code",
   "execution_count": 60,
   "metadata": {},
   "outputs": [
    {
     "output_type": "stream",
     "name": "stdout",
     "text": [
      "[Not(And(R!5 > 0, Y!6 < 0)), Y!6 - 1 > R!5, Y!6 - 1 > R!5 + 100, Y!6 - 1 > R!5, Y!6 - 1 + X!14 > X!14]\n"
     ]
    },
    {
     "output_type": "execute_result",
     "data": {
      "text/plain": [
       "[R!5 = 1, Y!6 = 103]"
      ],
      "text/html": "[R!5 = 1, Y!6 = 103]"
     },
     "metadata": {},
     "execution_count": 60
    }
   ],
   "source": [
    "print(pc2)\n",
    "s.reset()\n",
    "s.add(pc2)\n",
    "s.check()\n",
    "s.model()"
   ]
  },
  {
   "cell_type": "code",
   "execution_count": null,
   "metadata": {},
   "outputs": [],
   "source": []
  }
 ]
}